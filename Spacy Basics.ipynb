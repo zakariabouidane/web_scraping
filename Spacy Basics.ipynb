{
 "cells": [
  {
   "cell_type": "markdown",
   "id": "c5c01a9a",
   "metadata": {},
   "source": [
    "## Loading Library"
   ]
  },
  {
   "cell_type": "code",
   "execution_count": 2,
   "id": "d333f1fd",
   "metadata": {},
   "outputs": [],
   "source": [
    "import spacy"
   ]
  },
  {
   "cell_type": "markdown",
   "id": "472cc92f",
   "metadata": {},
   "source": [
    "## Load English tokenizer, tagger, parser, NER and word vectors"
   ]
  },
  {
   "cell_type": "code",
   "execution_count": 3,
   "id": "913f9032",
   "metadata": {},
   "outputs": [],
   "source": [
    "nlp = spacy.load(\"en_core_web_sm\")"
   ]
  },
  {
   "cell_type": "markdown",
   "id": "06f5586a",
   "metadata": {},
   "source": [
    "## Sample Text"
   ]
  },
  {
   "cell_type": "code",
   "execution_count": 4,
   "id": "523007e4",
   "metadata": {},
   "outputs": [],
   "source": [
    "#process whole documents\n",
    "text = \"Google began in January 1996 as a research project by Larry Page and Sergey Brin when they were both PhD students at Stanford University in California.\""
   ]
  },
  {
   "cell_type": "code",
   "execution_count": 5,
   "id": "bcceafec",
   "metadata": {},
   "outputs": [
    {
     "data": {
      "text/plain": [
       "'Google began in January 1996 as a research project by Larry Page and Sergey Brin when they were both PhD students at Stanford University in California.'"
      ]
     },
     "execution_count": 5,
     "metadata": {},
     "output_type": "execute_result"
    }
   ],
   "source": [
    "text"
   ]
  },
  {
   "cell_type": "markdown",
   "id": "c6491030",
   "metadata": {},
   "source": [
    "## NLP at work"
   ]
  },
  {
   "cell_type": "code",
   "execution_count": 7,
   "id": "3683e8b9",
   "metadata": {},
   "outputs": [],
   "source": [
    "doc = nlp(text)"
   ]
  },
  {
   "cell_type": "code",
   "execution_count": 9,
   "id": "e7d35d83",
   "metadata": {},
   "outputs": [
    {
     "data": {
      "text/plain": [
       "Google began in January 1996 as a research project by Larry Page and Sergey Brin when they were both PhD students at Stanford University in California."
      ]
     },
     "execution_count": 9,
     "metadata": {},
     "output_type": "execute_result"
    }
   ],
   "source": [
    "doc"
   ]
  },
  {
   "cell_type": "markdown",
   "id": "7f5c728d",
   "metadata": {},
   "source": [
    "## Tokenization"
   ]
  },
  {
   "cell_type": "code",
   "execution_count": 10,
   "id": "418164c1",
   "metadata": {},
   "outputs": [
    {
     "name": "stdout",
     "output_type": "stream",
     "text": [
      "Google\n",
      "began\n",
      "in\n",
      "January\n",
      "1996\n",
      "as\n",
      "a\n",
      "research\n",
      "project\n",
      "by\n",
      "Larry\n",
      "Page\n",
      "and\n",
      "Sergey\n",
      "Brin\n",
      "when\n",
      "they\n",
      "were\n",
      "both\n",
      "PhD\n",
      "students\n",
      "at\n",
      "Stanford\n",
      "University\n",
      "in\n",
      "California\n",
      ".\n"
     ]
    }
   ],
   "source": [
    "for token in doc:\n",
    "    print(token)"
   ]
  },
  {
   "cell_type": "markdown",
   "id": "7be2a5fb",
   "metadata": {},
   "source": [
    "## Only Noun"
   ]
  },
  {
   "cell_type": "code",
   "execution_count": 15,
   "id": "2e08a28b",
   "metadata": {},
   "outputs": [
    {
     "name": "stdout",
     "output_type": "stream",
     "text": [
      "research\n",
      "project\n",
      "PhD\n",
      "students\n"
     ]
    }
   ],
   "source": [
    "for token in doc:\n",
    "    if token.pos_== \"NOUN\":\n",
    "        print(token)"
   ]
  },
  {
   "cell_type": "markdown",
   "id": "0fca4fd2",
   "metadata": {},
   "source": [
    "## Named Entity Recognition"
   ]
  },
  {
   "cell_type": "code",
   "execution_count": 17,
   "id": "cf63ff24",
   "metadata": {},
   "outputs": [
    {
     "name": "stdout",
     "output_type": "stream",
     "text": [
      "January 1996 DATE\n",
      "Larry Page PERSON\n",
      "Sergey Brin PERSON\n",
      "PhD WORK_OF_ART\n",
      "Stanford University ORG\n",
      "California GPE\n"
     ]
    }
   ],
   "source": [
    "for entity in doc.ents:\n",
    "    print(entity.text, entity.label_)"
   ]
  },
  {
   "cell_type": "code",
   "execution_count": null,
   "id": "add10269",
   "metadata": {},
   "outputs": [],
   "source": []
  }
 ],
 "metadata": {
  "kernelspec": {
   "display_name": "Python 3 (ipykernel)",
   "language": "python",
   "name": "python3"
  },
  "language_info": {
   "codemirror_mode": {
    "name": "ipython",
    "version": 3
   },
   "file_extension": ".py",
   "mimetype": "text/x-python",
   "name": "python",
   "nbconvert_exporter": "python",
   "pygments_lexer": "ipython3",
   "version": "3.9.5"
  }
 },
 "nbformat": 4,
 "nbformat_minor": 5
}
