{
 "cells": [
  {
   "cell_type": "code",
   "execution_count": 16,
   "id": "8ae1fb7f",
   "metadata": {},
   "outputs": [],
   "source": [
    "import spacy #nlp\n",
    "import pdfminer #pdf2text\n",
    "import re #regex\n",
    "import os #file manipumation\n",
    "import pandas as pd #csv - tabular"
   ]
  },
  {
   "cell_type": "code",
   "execution_count": 17,
   "id": "d86be061",
   "metadata": {},
   "outputs": [],
   "source": [
    "import pdf2txt"
   ]
  },
  {
   "cell_type": "code",
   "execution_count": 18,
   "id": "047c1591",
   "metadata": {},
   "outputs": [],
   "source": [
    "# converting pdf to txt"
   ]
  },
  {
   "cell_type": "code",
   "execution_count": 19,
   "id": "c4818a05",
   "metadata": {},
   "outputs": [],
   "source": [
    "def convert_pdf(f):\n",
    "    \n",
    "    output_filename = os.path.basename(os.path.splitext(f)[0]) + \".txt\"\n",
    "    output_filepath = os.path.join(\"output/txt/\", output_filename)\n",
    "    pdf2txt.main(args=[f, \"--outfile\", output_filepath]) #pdf to txt and save it in the given location\n",
    "    print(output_filepath + \" saved successfuly!!!\")\n",
    "    return open(output_filepath).read()"
   ]
  },
  {
   "cell_type": "code",
   "execution_count": 20,
   "id": "0af4e3e1",
   "metadata": {},
   "outputs": [],
   "source": [
    "#load the language model"
   ]
  },
  {
   "cell_type": "code",
   "execution_count": 21,
   "id": "7997f485",
   "metadata": {},
   "outputs": [],
   "source": [
    "nlp = spacy.load(\"en_core_web_sm\")"
   ]
  },
  {
   "cell_type": "code",
   "execution_count": 22,
   "id": "4612cb90",
   "metadata": {},
   "outputs": [],
   "source": [
    "#phone_name"
   ]
  },
  {
   "cell_type": "code",
   "execution_count": 23,
   "id": "53739fbf",
   "metadata": {},
   "outputs": [],
   "source": [
    "result_dict = {'name': [], 'phone': [], 'email': [], 'skills': []}\n",
    "names = []\n",
    "phones = []\n",
    "emails = []\n",
    "skills = []"
   ]
  },
  {
   "cell_type": "code",
   "execution_count": 24,
   "id": "27536a5e",
   "metadata": {},
   "outputs": [],
   "source": [
    "def parse_content(text):\n",
    "    skillset = re.compile(\"python|java|sql|hadoop|tableau\")\n",
    "    phone_num = re.compile(\n",
    "        \"(\\d{3}[-\\.\\s]??\\d{3}[-\\.\\s]??\\d{4}|\\(\\d{3}\\)\\s*\\d{3}[-\\.\\s]??\\d{4}|\\d{3}[-\\.\\s]??\\d{4})\"\n",
    "    )\n",
    "    doc = nlp(text)\n",
    "    name = [entity.text for entity in doc.ents if entity.label_ == 'PERSON'][0]\n",
    "    print(name)\n",
    "    email = [word for word in doc if word.like_email == True][0]\n",
    "    print(email)\n",
    "    phone = str(re.findall(phone_num, text.lower()))\n",
    "    skills_list = re.findall(skillset, text.lower())\n",
    "    unique_skills_list = str(set(skills_list))\n",
    "    names.append(name)\n",
    "    emails.append(email)\n",
    "    phones.append(phone)\n",
    "    skills.append(unique_skills_list)\n",
    "    print(\"extraction completed successfully!!\")"
   ]
  },
  {
   "cell_type": "code",
   "execution_count": 25,
   "id": "66d7acdf",
   "metadata": {},
   "outputs": [
    {
     "name": "stdout",
     "output_type": "stream",
     "text": [
      "Reading.....Alisson ParkerCV.pdf\n",
      "output/txt/Alisson ParkerCV.txt saved successfuly!!!\n",
      "Alisson Parker-Wright                                                                                                 \n",
      "alli1414parks@mail.com\n",
      "extraction completed successfully!!\n",
      "Reading.....AshleyMilesCV.pdf\n",
      "output/txt/AshleyMilesCV.txt saved successfuly!!!\n",
      "Ashley Miles\n",
      "ashleymiles@memail.com\n",
      "extraction completed successfully!!\n",
      "Reading.....John DominicCV.pdf\n",
      "output/txt/John DominicCV.txt saved successfuly!!!\n",
      "John Dominic\n",
      "johndominic@mail.com\n",
      "extraction completed successfully!!\n"
     ]
    }
   ],
   "source": [
    "for file in os.listdir('resumes/'):\n",
    "    if file.endswith('.pdf'):\n",
    "        print('Reading.....'+file)\n",
    "        txt = convert_pdf(os.path.join('resumes/',file))\n",
    "        parse_content(txt)"
   ]
  },
  {
   "cell_type": "code",
   "execution_count": 26,
   "id": "956d711e",
   "metadata": {},
   "outputs": [],
   "source": [
    "result_dict['name'] = names\n",
    "result_dict['phone'] = phones\n",
    "result_dict['email'] = emails\n",
    "result_dict['skills'] = skills\n",
    "#print(result_dict)"
   ]
  },
  {
   "cell_type": "code",
   "execution_count": 15,
   "id": "9394969a",
   "metadata": {},
   "outputs": [
    {
     "data": {
      "text/html": [
       "<div>\n",
       "<style scoped>\n",
       "    .dataframe tbody tr th:only-of-type {\n",
       "        vertical-align: middle;\n",
       "    }\n",
       "\n",
       "    .dataframe tbody tr th {\n",
       "        vertical-align: top;\n",
       "    }\n",
       "\n",
       "    .dataframe thead th {\n",
       "        text-align: right;\n",
       "    }\n",
       "</style>\n",
       "<table border=\"1\" class=\"dataframe\">\n",
       "  <thead>\n",
       "    <tr style=\"text-align: right;\">\n",
       "      <th></th>\n",
       "      <th>name</th>\n",
       "      <th>phone</th>\n",
       "      <th>email</th>\n",
       "      <th>skills</th>\n",
       "    </tr>\n",
       "  </thead>\n",
       "  <tbody>\n",
       "    <tr>\n",
       "      <th>0</th>\n",
       "      <td>Alisson Parker-Wright                         ...</td>\n",
       "      <td>['8569878511']</td>\n",
       "      <td>alli1414parks@mail.com</td>\n",
       "      <td>{'tableau', 'python', 'java'}</td>\n",
       "    </tr>\n",
       "    <tr>\n",
       "      <th>1</th>\n",
       "      <td>Ashley Miles</td>\n",
       "      <td>['6592251422']</td>\n",
       "      <td>ashleymiles@memail.com</td>\n",
       "      <td>{'tableau', 'sql'}</td>\n",
       "    </tr>\n",
       "    <tr>\n",
       "      <th>2</th>\n",
       "      <td>John Dominic</td>\n",
       "      <td>['7877756411']</td>\n",
       "      <td>johndominic@mail.com</td>\n",
       "      <td>{'java', 'hadoop', 'python'}</td>\n",
       "    </tr>\n",
       "  </tbody>\n",
       "</table>\n",
       "</div>"
      ],
      "text/plain": [
       "                                                name           phone  \\\n",
       "0  Alisson Parker-Wright                         ...  ['8569878511']   \n",
       "1                                       Ashley Miles  ['6592251422']   \n",
       "2                                       John Dominic  ['7877756411']   \n",
       "\n",
       "                    email                         skills  \n",
       "0  alli1414parks@mail.com  {'tableau', 'python', 'java'}  \n",
       "1  ashleymiles@memail.com             {'tableau', 'sql'}  \n",
       "2    johndominic@mail.com   {'java', 'hadoop', 'python'}  "
      ]
     },
     "execution_count": 15,
     "metadata": {},
     "output_type": "execute_result"
    }
   ],
   "source": [
    "result_df = pd.DataFrame(result_dict)\n",
    "result_df"
   ]
  },
  {
   "cell_type": "code",
   "execution_count": 27,
   "id": "6aa5c447",
   "metadata": {},
   "outputs": [],
   "source": [
    "result_df.to_csv('output/csv/parsed_resumes.csv')"
   ]
  },
  {
   "cell_type": "code",
   "execution_count": null,
   "id": "7035b21c",
   "metadata": {},
   "outputs": [],
   "source": []
  }
 ],
 "metadata": {
  "kernelspec": {
   "display_name": "Python 3 (ipykernel)",
   "language": "python",
   "name": "python3"
  },
  "language_info": {
   "codemirror_mode": {
    "name": "ipython",
    "version": 3
   },
   "file_extension": ".py",
   "mimetype": "text/x-python",
   "name": "python",
   "nbconvert_exporter": "python",
   "pygments_lexer": "ipython3",
   "version": "3.9.5"
  }
 },
 "nbformat": 4,
 "nbformat_minor": 5
}
